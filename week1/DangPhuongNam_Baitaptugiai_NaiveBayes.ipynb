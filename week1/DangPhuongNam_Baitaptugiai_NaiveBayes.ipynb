{
 "cells": [
  {
   "cell_type": "code",
   "execution_count": 73,
   "id": "initial_id",
   "metadata": {
    "collapsed": true,
    "ExecuteTime": {
     "end_time": "2024-09-19T05:17:15.989367600Z",
     "start_time": "2024-09-19T05:17:15.979703900Z"
    }
   },
   "outputs": [],
   "source": [
    "from __future__ import print_function,division,unicode_literals\n",
    "import pandas as pd\n",
    "from sklearn.naive_bayes import GaussianNB\n",
    "from sklearn.metrics import accuracy_score, recall_score, precision_score,classification_report,confusion_matrix"
   ]
  },
  {
   "cell_type": "code",
   "outputs": [
    {
     "name": "stdout",
     "output_type": "stream",
     "text": [
      "Accuracy: 0.9583333333333334\n",
      "Recall: 0.975\n",
      "Precision: 0.9069767441860465\n",
      "[[76  4]\n",
      " [ 1 39]]\n",
      "              precision    recall  f1-score   support\n",
      "\n",
      "           2       0.99      0.95      0.97        80\n",
      "           4       0.91      0.97      0.94        40\n",
      "\n",
      "    accuracy                           0.96       120\n",
      "   macro avg       0.95      0.96      0.95       120\n",
      "weighted avg       0.96      0.96      0.96       120\n"
     ]
    }
   ],
   "source": [
    "# đọc dữ liệu\n",
    "data_cancer = pd.read_csv('C:\\\\ML_TH\\\\ML\\\\week1\\\\breast-cancer-wisconsin.data', header=None) \n",
    "data_cancer = data_cancer.apply(pd.to_numeric, errors='coerce').dropna()\n",
    "# lọc u ác tính (4) và u lành tính (2)\n",
    "malignant = data_cancer[data_cancer[10] == 4]\n",
    "benign = data_cancer[data_cancer[10] == 2]\n",
    "# lấy 80 mẫu lành tính và 40 mẫu ác tính cho tập test\n",
    "malignant_test = malignant.sample(n=40)\n",
    "benign_test = benign.sample(n=80)\n",
    "\n",
    "# tạo tập test\n",
    "test_set = pd.concat([malignant_test, benign_test])\n",
    "label_test = test_set[10]  # Nhãn cho tập huấn luyện\n",
    "test_set = test_set.drop(columns=[10]).drop(columns = 0) # xoá id và xóa nhãn\n",
    "\n",
    "# lấy dữ liệu còn lại cho tập traing\n",
    "malignant_train = malignant.drop(malignant_test.index) # xóa đi những dữ liệu lấy làm test\n",
    "benign_train = benign.drop(benign_test.index)\n",
    "train_set = pd.concat([malignant_train, benign_train])\n",
    "label_train = train_set[10]  # Nhãn cho tập kiểm tra\n",
    "train_set = train_set.drop(columns=[10]).drop(columns=0) #xóa cột id và cột nhãn\n",
    "\n",
    "# huấn luyện mô hình\n",
    "gnb = GaussianNB()\n",
    "gnb.fit(train_set, label_train) \n",
    "\n",
    "# dự đoán trên tập kiểm tra\n",
    "y_pred = gnb.predict(test_set)\n",
    "# đánh giá mô hình trên tập kiểm tra\n",
    "print(\"Accuracy:\", accuracy_score(label_test, y_pred))\n",
    "print(\"Recall:\", recall_score(label_test, y_pred, pos_label=4)) # đặt positive là 4\n",
    "print(\"Precision:\", precision_score(label_test, y_pred, pos_label=4))\n",
    "print(confusion_matrix(label_test, y_pred))\n",
    "print(classification_report(label_test, y_pred))"
   ],
   "metadata": {
    "collapsed": false,
    "ExecuteTime": {
     "end_time": "2024-09-19T05:17:16.113976800Z",
     "start_time": "2024-09-19T05:17:16.008495900Z"
    }
   },
   "id": "351ff8ecd5b34372",
   "execution_count": 74
  }
 ],
 "metadata": {
  "kernelspec": {
   "display_name": "Python 3",
   "language": "python",
   "name": "python3"
  },
  "language_info": {
   "codemirror_mode": {
    "name": "ipython",
    "version": 2
   },
   "file_extension": ".py",
   "mimetype": "text/x-python",
   "name": "python",
   "nbconvert_exporter": "python",
   "pygments_lexer": "ipython2",
   "version": "2.7.6"
  }
 },
 "nbformat": 4,
 "nbformat_minor": 5
}
